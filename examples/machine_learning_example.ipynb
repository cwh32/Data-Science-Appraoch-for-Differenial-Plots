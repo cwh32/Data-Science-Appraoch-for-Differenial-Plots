{
 "cells": [
  {
   "cell_type": "markdown",
   "metadata": {},
   "source": [
    "# Machine Learning Example\n",
    "\n",
    "#### This notebook performs the mcahine learning codes to demonstrate the batteries classification problem."
   ]
  },
  {
   "cell_type": "code",
   "execution_count": 1,
   "metadata": {},
   "outputs": [],
   "source": [
    "# import needed packages\n",
    "import sys\n",
    "sys.path.append(\"../data-science-appraoches-for-tdcp-analysis\")\n",
    "import chachifuncs as ccf\n",
    "import descriptors as d\n",
    "import glob\n",
    "import matplotlib.pyplot as plt \n",
    "import numpy as np\n",
    "import os\n",
    "import pandas as pd\n",
    "from sklearn import linear_model\n",
    "from sklearn import preprocessing\n",
    "from sklearn import svm\n",
    "from sklearn.model_selection import train_test_split\n",
    "from sklearn.feature_selection import VarianceThreshold\n",
    "import matplotlib.patches as mpatches\n",
    "from mpl_toolkits.mplot3d import Axes3D\n",
    "import seaborn as sns\n",
    "import pickle\n",
    "\n",
    "%matplotlib inline"
   ]
  },
  {
   "cell_type": "code",
   "execution_count": 2,
   "metadata": {},
   "outputs": [],
   "source": [
    "# looks for any files that have been processed with the describe function \n",
    "\n",
    "k_list = [f for f in glob.glob('data/K_descriptors/*.xlsx')]\n",
    "c_list = [f for f in glob.glob('data/C_descriptors/*.xlsx')]"
   ]
  },
  {
   "cell_type": "code",
   "execution_count": 3,
   "metadata": {},
   "outputs": [
    {
     "data": {
      "text/plain": [
       "(390, 41)"
      ]
     },
     "execution_count": 3,
     "metadata": {},
     "output_type": "execute_result"
    }
   ],
   "source": [
    "# transform list to dataframe\n",
    "c_data = pd.DataFrame()\n",
    "for each in c_list:\n",
    "    df = pd.read_excel(each)\n",
    "    c_data = c_data.append(df,ignore_index=True)\n",
    "c_data.shape"
   ]
  },
  {
   "cell_type": "code",
   "execution_count": 4,
   "metadata": {},
   "outputs": [
    {
     "data": {
      "text/plain": [
       "(640, 41)"
      ]
     },
     "execution_count": 4,
     "metadata": {},
     "output_type": "execute_result"
    }
   ],
   "source": [
    "# transform list to dataframe\n",
    "k_data = pd.DataFrame()\n",
    "for each in k_list:\n",
    "    df = pd.read_excel(each)\n",
    "    k_data = k_data.append(df,ignore_index=True)\n",
    "k_data.shape"
   ]
  },
  {
   "cell_type": "code",
   "execution_count": 5,
   "metadata": {},
   "outputs": [
    {
     "data": {
      "text/plain": [
       "Index(['Unnamed: 0', 'ch_0', 'ch_1', 'ch_2', 'ch_3', 'ch_4', 'ch_5', 'ch_6',\n",
       "       'ch_7', 'ch_8', 'ch_9', 'ch_10', 'ch_11', 'ch_12', 'ch_13', 'ch_14',\n",
       "       'ch_15', 'ch_16', 'names', 'dc_0', 'dc_1', 'dc_2', 'dc_3', 'dc_4',\n",
       "       'dc_5', 'dc_6', 'dc_7', 'dc_8', 'dc_9', 'dc_10', 'dc_11', 'dc_12',\n",
       "       'dc_13', 'dc_14', 'dc_15'],\n",
       "      dtype='object')"
      ]
     },
     "execution_count": 5,
     "metadata": {},
     "output_type": "execute_result"
    }
   ],
   "source": [
    "# combine all data and drop any duplicate columns \n",
    "data = c_data.append(k_data)\n",
    "df = data\n",
    "data = data.T.drop_duplicates().T\n",
    "data.columns"
   ]
  },
  {
   "cell_type": "code",
   "execution_count": 6,
   "metadata": {},
   "outputs": [
    {
     "data": {
      "text/plain": [
       "Index(['Unnamed: 0', 'charge_poly_B0', 'charge_poly_B1', 'charge_poly_B2',\n",
       "       'charge_poly_B3', 'Charge_P1_loc', 'Charge_P1_height',\n",
       "       'Charge_P1_width', 'Charge_P2_loc', 'Charge_P2_height',\n",
       "       'Charge_P2_width', 'Charge_P3_loc', 'Charge_P3_height',\n",
       "       'Charge_P3_width', 'Charge_P4_loc', 'Charge_P4_height',\n",
       "       'Charge_P4_width', 'Charge_P5_loc', 'names', 'discharge_poly_B0',\n",
       "       'discharge_poly_B1', 'discharge_poly_B2', 'discharge_poly_B3',\n",
       "       'Discarge_P1_loc', 'Disharge_P1_height', 'Discharge_P1_width',\n",
       "       'Discarge_P2_loc', 'Disharge_P2_height', 'Discharge_P2_width',\n",
       "       'Discarge_P3_loc', 'Disharge_P3_height', 'Discharge_P3_width',\n",
       "       'Discarge_P4_loc', 'Disharge_P4_height', 'Discharge_P4_width'],\n",
       "      dtype='object')"
      ]
     },
     "execution_count": 6,
     "metadata": {},
     "output_type": "execute_result"
    }
   ],
   "source": [
    "# create index\n",
    "df.columns = ['Unnamed: 0', 'charge_poly_B0','charge_poly_B1','charge_poly_B2','charge_poly_B3','Charge_P1_loc','Charge_P1_height','Charge_P1_width',\n",
    "              'Charge_P2_loc','Charge_P2_height','Charge_P2_width','Charge_P3_loc','Charge_P3_height','Charge_P3_width',\n",
    "              'Charge_P4_loc','Charge_P4_height','Charge_P4_width','Charge_P5_loc','Charge_P5_height','Charge_P5_width',\n",
    "              'names','discharge_poly_B0','discharge_poly_B1','discharge_poly_B2','discharge_poly_B3','Discarge_P1_loc','Disharge_P1_height','Discharge_P1_width','Discarge_P2_loc','Disharge_P2_height',\n",
    "              'Discharge_P2_width','Discarge_P3_loc','Disharge_P3_height','Discharge_P3_width','Discarge_P4_loc',\n",
    "              'Disharge_P4_height','Discharge_P4_width','Discarge_P5_loc','Disharge_P5_height','Discharge_P5_width','names']\n",
    "df = df.T.drop_duplicates().T\n",
    "df.columns"
   ]
  },
  {
   "cell_type": "code",
   "execution_count": 7,
   "metadata": {},
   "outputs": [
    {
     "data": {
      "text/plain": [
       "array(['LiCoO2', 'LiFePO4'], dtype=object)"
      ]
     },
     "execution_count": 7,
     "metadata": {},
     "output_type": "execute_result"
    }
   ],
   "source": [
    "#reset index\n",
    "data = data.reset_index(drop = True)\n",
    "\n",
    "for i in range(len(data)):\n",
    "    if data.loc[i, ('names')].startswith('CS2_33'):\n",
    "        data.loc[i, ('label')] = 'LiCoO2'\n",
    "        data.loc[i, ('lasso')] = 0\n",
    "    else:\n",
    "        data.loc[i,('label')] = 'LiFePO4'\n",
    "        data.loc[i, ('lasso')] = 1\n",
    "\n",
    "data.label.unique()"
   ]
  },
  {
   "cell_type": "code",
   "execution_count": 8,
   "metadata": {},
   "outputs": [
    {
     "name": "stdout",
     "output_type": "stream",
     "text": [
      "Shape of dataset:  (1030, 37)\n"
     ]
    },
    {
     "data": {
      "text/html": [
       "<div>\n",
       "<style scoped>\n",
       "    .dataframe tbody tr th:only-of-type {\n",
       "        vertical-align: middle;\n",
       "    }\n",
       "\n",
       "    .dataframe tbody tr th {\n",
       "        vertical-align: top;\n",
       "    }\n",
       "\n",
       "    .dataframe thead th {\n",
       "        text-align: right;\n",
       "    }\n",
       "</style>\n",
       "<table border=\"1\" class=\"dataframe\">\n",
       "  <thead>\n",
       "    <tr style=\"text-align: right;\">\n",
       "      <th></th>\n",
       "      <th>Unnamed: 0</th>\n",
       "      <th>ch_0</th>\n",
       "      <th>ch_1</th>\n",
       "      <th>ch_2</th>\n",
       "      <th>ch_3</th>\n",
       "      <th>ch_4</th>\n",
       "      <th>ch_5</th>\n",
       "      <th>ch_6</th>\n",
       "      <th>ch_7</th>\n",
       "      <th>ch_8</th>\n",
       "      <th>...</th>\n",
       "      <th>dc_8</th>\n",
       "      <th>dc_9</th>\n",
       "      <th>dc_10</th>\n",
       "      <th>dc_11</th>\n",
       "      <th>dc_12</th>\n",
       "      <th>dc_13</th>\n",
       "      <th>dc_14</th>\n",
       "      <th>dc_15</th>\n",
       "      <th>label</th>\n",
       "      <th>lasso</th>\n",
       "    </tr>\n",
       "  </thead>\n",
       "  <tbody>\n",
       "    <tr>\n",
       "      <th>0</th>\n",
       "      <td>0</td>\n",
       "      <td>265277</td>\n",
       "      <td>-268726</td>\n",
       "      <td>101982</td>\n",
       "      <td>-17184.3</td>\n",
       "      <td>3.82003</td>\n",
       "      <td>2.16721</td>\n",
       "      <td>0.0217102</td>\n",
       "      <td>3.92112</td>\n",
       "      <td>4.23149</td>\n",
       "      <td>...</td>\n",
       "      <td>0</td>\n",
       "      <td>0</td>\n",
       "      <td>0</td>\n",
       "      <td>0</td>\n",
       "      <td>0</td>\n",
       "      <td>0</td>\n",
       "      <td>0</td>\n",
       "      <td>0</td>\n",
       "      <td>LiCoO2</td>\n",
       "      <td>0.0</td>\n",
       "    </tr>\n",
       "    <tr>\n",
       "      <th>1</th>\n",
       "      <td>1</td>\n",
       "      <td>43254.7</td>\n",
       "      <td>-44274.2</td>\n",
       "      <td>16952.6</td>\n",
       "      <td>-2878</td>\n",
       "      <td>3.81258</td>\n",
       "      <td>1.90613</td>\n",
       "      <td>0.0139044</td>\n",
       "      <td>3.91042</td>\n",
       "      <td>4.2129</td>\n",
       "      <td>...</td>\n",
       "      <td>0</td>\n",
       "      <td>0</td>\n",
       "      <td>0</td>\n",
       "      <td>0</td>\n",
       "      <td>0</td>\n",
       "      <td>0</td>\n",
       "      <td>0</td>\n",
       "      <td>0</td>\n",
       "      <td>LiCoO2</td>\n",
       "      <td>0.0</td>\n",
       "    </tr>\n",
       "    <tr>\n",
       "      <th>2</th>\n",
       "      <td>2</td>\n",
       "      <td>45929.8</td>\n",
       "      <td>-46833.5</td>\n",
       "      <td>17864.9</td>\n",
       "      <td>-3021.49</td>\n",
       "      <td>3.8155</td>\n",
       "      <td>1.83571</td>\n",
       "      <td>0.0149</td>\n",
       "      <td>3.91593</td>\n",
       "      <td>4.39144</td>\n",
       "      <td>...</td>\n",
       "      <td>0</td>\n",
       "      <td>0</td>\n",
       "      <td>0</td>\n",
       "      <td>0</td>\n",
       "      <td>0</td>\n",
       "      <td>0</td>\n",
       "      <td>0</td>\n",
       "      <td>0</td>\n",
       "      <td>LiCoO2</td>\n",
       "      <td>0.0</td>\n",
       "    </tr>\n",
       "    <tr>\n",
       "      <th>3</th>\n",
       "      <td>3</td>\n",
       "      <td>79724.4</td>\n",
       "      <td>-82505</td>\n",
       "      <td>31956.2</td>\n",
       "      <td>-5490.66</td>\n",
       "      <td>3.80724</td>\n",
       "      <td>1.93758</td>\n",
       "      <td>0.00814911</td>\n",
       "      <td>3.85227</td>\n",
       "      <td>1.46473</td>\n",
       "      <td>...</td>\n",
       "      <td>0</td>\n",
       "      <td>0</td>\n",
       "      <td>0</td>\n",
       "      <td>0</td>\n",
       "      <td>0</td>\n",
       "      <td>0</td>\n",
       "      <td>0</td>\n",
       "      <td>0</td>\n",
       "      <td>LiCoO2</td>\n",
       "      <td>0.0</td>\n",
       "    </tr>\n",
       "    <tr>\n",
       "      <th>4</th>\n",
       "      <td>4</td>\n",
       "      <td>39853.3</td>\n",
       "      <td>-40890.7</td>\n",
       "      <td>15694.2</td>\n",
       "      <td>-2670.63</td>\n",
       "      <td>3.80464</td>\n",
       "      <td>1.95089</td>\n",
       "      <td>0.0146962</td>\n",
       "      <td>3.90313</td>\n",
       "      <td>3.84962</td>\n",
       "      <td>...</td>\n",
       "      <td>0</td>\n",
       "      <td>0</td>\n",
       "      <td>0</td>\n",
       "      <td>0</td>\n",
       "      <td>0</td>\n",
       "      <td>0</td>\n",
       "      <td>0</td>\n",
       "      <td>0</td>\n",
       "      <td>LiCoO2</td>\n",
       "      <td>0.0</td>\n",
       "    </tr>\n",
       "    <tr>\n",
       "      <th>5</th>\n",
       "      <td>5</td>\n",
       "      <td>61522.7</td>\n",
       "      <td>-63039.9</td>\n",
       "      <td>24174.7</td>\n",
       "      <td>-4112.24</td>\n",
       "      <td>3.81534</td>\n",
       "      <td>1.79809</td>\n",
       "      <td>0.0133558</td>\n",
       "      <td>3.91026</td>\n",
       "      <td>4.32505</td>\n",
       "      <td>...</td>\n",
       "      <td>0</td>\n",
       "      <td>0</td>\n",
       "      <td>0</td>\n",
       "      <td>0</td>\n",
       "      <td>0</td>\n",
       "      <td>0</td>\n",
       "      <td>0</td>\n",
       "      <td>0</td>\n",
       "      <td>LiCoO2</td>\n",
       "      <td>0.0</td>\n",
       "    </tr>\n",
       "    <tr>\n",
       "      <th>6</th>\n",
       "      <td>6</td>\n",
       "      <td>56114.3</td>\n",
       "      <td>-57457.8</td>\n",
       "      <td>22016</td>\n",
       "      <td>-3741.5</td>\n",
       "      <td>3.81404</td>\n",
       "      <td>1.7871</td>\n",
       "      <td>0.0143419</td>\n",
       "      <td>3.91269</td>\n",
       "      <td>4.08066</td>\n",
       "      <td>...</td>\n",
       "      <td>0</td>\n",
       "      <td>0</td>\n",
       "      <td>0</td>\n",
       "      <td>0</td>\n",
       "      <td>0</td>\n",
       "      <td>0</td>\n",
       "      <td>0</td>\n",
       "      <td>0</td>\n",
       "      <td>LiCoO2</td>\n",
       "      <td>0.0</td>\n",
       "    </tr>\n",
       "    <tr>\n",
       "      <th>7</th>\n",
       "      <td>7</td>\n",
       "      <td>85686.3</td>\n",
       "      <td>-88035.4</td>\n",
       "      <td>33859.3</td>\n",
       "      <td>-5777.95</td>\n",
       "      <td>3.81534</td>\n",
       "      <td>1.71727</td>\n",
       "      <td>0.000296707</td>\n",
       "      <td>3.91512</td>\n",
       "      <td>4.33631</td>\n",
       "      <td>...</td>\n",
       "      <td>0</td>\n",
       "      <td>0</td>\n",
       "      <td>0</td>\n",
       "      <td>0</td>\n",
       "      <td>0</td>\n",
       "      <td>0</td>\n",
       "      <td>0</td>\n",
       "      <td>0</td>\n",
       "      <td>LiCoO2</td>\n",
       "      <td>0.0</td>\n",
       "    </tr>\n",
       "    <tr>\n",
       "      <th>8</th>\n",
       "      <td>8</td>\n",
       "      <td>52871.6</td>\n",
       "      <td>-54283.8</td>\n",
       "      <td>20856.3</td>\n",
       "      <td>-3554.04</td>\n",
       "      <td>3.8095</td>\n",
       "      <td>1.7962</td>\n",
       "      <td>0.112926</td>\n",
       "      <td>3.90799</td>\n",
       "      <td>4.20811</td>\n",
       "      <td>...</td>\n",
       "      <td>0</td>\n",
       "      <td>0</td>\n",
       "      <td>0</td>\n",
       "      <td>0</td>\n",
       "      <td>0</td>\n",
       "      <td>0</td>\n",
       "      <td>0</td>\n",
       "      <td>0</td>\n",
       "      <td>LiCoO2</td>\n",
       "      <td>0.0</td>\n",
       "    </tr>\n",
       "    <tr>\n",
       "      <th>9</th>\n",
       "      <td>9</td>\n",
       "      <td>80334.4</td>\n",
       "      <td>-82886.1</td>\n",
       "      <td>32010.3</td>\n",
       "      <td>-5484.4</td>\n",
       "      <td>3.80805</td>\n",
       "      <td>1.85822</td>\n",
       "      <td>0.377574</td>\n",
       "      <td>3.90265</td>\n",
       "      <td>4.49684</td>\n",
       "      <td>...</td>\n",
       "      <td>0</td>\n",
       "      <td>0</td>\n",
       "      <td>0</td>\n",
       "      <td>0</td>\n",
       "      <td>0</td>\n",
       "      <td>0</td>\n",
       "      <td>0</td>\n",
       "      <td>0</td>\n",
       "      <td>LiCoO2</td>\n",
       "      <td>0.0</td>\n",
       "    </tr>\n",
       "  </tbody>\n",
       "</table>\n",
       "<p>10 rows × 37 columns</p>\n",
       "</div>"
      ],
      "text/plain": [
       "  Unnamed: 0     ch_0     ch_1     ch_2     ch_3     ch_4     ch_5  \\\n",
       "0          0   265277  -268726   101982 -17184.3  3.82003  2.16721   \n",
       "1          1  43254.7 -44274.2  16952.6    -2878  3.81258  1.90613   \n",
       "2          2  45929.8 -46833.5  17864.9 -3021.49   3.8155  1.83571   \n",
       "3          3  79724.4   -82505  31956.2 -5490.66  3.80724  1.93758   \n",
       "4          4  39853.3 -40890.7  15694.2 -2670.63  3.80464  1.95089   \n",
       "5          5  61522.7 -63039.9  24174.7 -4112.24  3.81534  1.79809   \n",
       "6          6  56114.3 -57457.8    22016  -3741.5  3.81404   1.7871   \n",
       "7          7  85686.3 -88035.4  33859.3 -5777.95  3.81534  1.71727   \n",
       "8          8  52871.6 -54283.8  20856.3 -3554.04   3.8095   1.7962   \n",
       "9          9  80334.4 -82886.1  32010.3  -5484.4  3.80805  1.85822   \n",
       "\n",
       "          ch_6     ch_7     ch_8  ... dc_8 dc_9 dc_10 dc_11 dc_12 dc_13 dc_14  \\\n",
       "0    0.0217102  3.92112  4.23149  ...    0    0     0     0     0     0     0   \n",
       "1    0.0139044  3.91042   4.2129  ...    0    0     0     0     0     0     0   \n",
       "2       0.0149  3.91593  4.39144  ...    0    0     0     0     0     0     0   \n",
       "3   0.00814911  3.85227  1.46473  ...    0    0     0     0     0     0     0   \n",
       "4    0.0146962  3.90313  3.84962  ...    0    0     0     0     0     0     0   \n",
       "5    0.0133558  3.91026  4.32505  ...    0    0     0     0     0     0     0   \n",
       "6    0.0143419  3.91269  4.08066  ...    0    0     0     0     0     0     0   \n",
       "7  0.000296707  3.91512  4.33631  ...    0    0     0     0     0     0     0   \n",
       "8     0.112926  3.90799  4.20811  ...    0    0     0     0     0     0     0   \n",
       "9     0.377574  3.90265  4.49684  ...    0    0     0     0     0     0     0   \n",
       "\n",
       "  dc_15   label lasso  \n",
       "0     0  LiCoO2   0.0  \n",
       "1     0  LiCoO2   0.0  \n",
       "2     0  LiCoO2   0.0  \n",
       "3     0  LiCoO2   0.0  \n",
       "4     0  LiCoO2   0.0  \n",
       "5     0  LiCoO2   0.0  \n",
       "6     0  LiCoO2   0.0  \n",
       "7     0  LiCoO2   0.0  \n",
       "8     0  LiCoO2   0.0  \n",
       "9     0  LiCoO2   0.0  \n",
       "\n",
       "[10 rows x 37 columns]"
      ]
     },
     "execution_count": 8,
     "metadata": {},
     "output_type": "execute_result"
    }
   ],
   "source": [
    "# check the shape of the dataset\n",
    "print (\"Shape of dataset: \",data.shape) #size of dataset\n",
    "data.head(10) "
   ]
  },
  {
   "cell_type": "code",
   "execution_count": 9,
   "metadata": {},
   "outputs": [
    {
     "name": "stdout",
     "output_type": "stream",
     "text": [
      "The following features were found: \n"
     ]
    },
    {
     "data": {
      "text/plain": [
       "Index(['Unnamed: 0', 'ch_0', 'ch_1', 'ch_2', 'ch_3', 'ch_4', 'ch_5', 'ch_6',\n",
       "       'ch_7', 'ch_8', 'ch_9', 'ch_10', 'ch_11', 'ch_12', 'ch_13', 'ch_14',\n",
       "       'ch_15', 'ch_16', 'names', 'dc_0', 'dc_1', 'dc_2', 'dc_3', 'dc_4',\n",
       "       'dc_5', 'dc_6', 'dc_7', 'dc_8', 'dc_9', 'dc_10', 'dc_11', 'dc_12',\n",
       "       'dc_13', 'dc_14', 'dc_15', 'label', 'lasso'],\n",
       "      dtype='object')"
      ]
     },
     "execution_count": 9,
     "metadata": {},
     "output_type": "execute_result"
    }
   ],
   "source": [
    "print(\"The following features were found: \") #column names \n",
    "data.columns"
   ]
  },
  {
   "cell_type": "code",
   "execution_count": 10,
   "metadata": {},
   "outputs": [
    {
     "name": "stdout",
     "output_type": "stream",
     "text": [
      "There are 2 unique batteries in this dataset:  ['LiCoO2' 'LiFePO4']\n"
     ]
    }
   ],
   "source": [
    "unique = data['label'].unique()\n",
    "print (\"There are\", len(unique), \"unique batteries in this dataset: \", unique) #how many unique batteries are we looking at"
   ]
  },
  {
   "cell_type": "code",
   "execution_count": 11,
   "metadata": {},
   "outputs": [
    {
     "name": "stdout",
     "output_type": "stream",
     "text": [
      "(824, 37) (206, 37)\n"
     ]
    }
   ],
   "source": [
    "# split up data into test train set 80/20\n",
    "train,test = train_test_split(data, test_size=0.2, random_state=1010)\n",
    "print (train.shape, test.shape)"
   ]
  },
  {
   "cell_type": "code",
   "execution_count": 12,
   "metadata": {},
   "outputs": [],
   "source": [
    "# LASSO \n",
    "# feature selection\n",
    "train_lasso_y = train['lasso']\n",
    "train_lasso_x = train[['ch_4','ch_5','ch_7','ch_8','ch_10','ch_11','dc_4','dc_5','dc_7','dc_10','dc_11']] # all the descriptors\n",
    "test_lasso_y = test['lasso']\n",
    "test_lasso_x = test[['ch_4','ch_5','ch_7','ch_8','ch_10','ch_11','dc_4','dc_5','dc_7','dc_10','dc_11']]\n",
    "# 4,5,7,8,10,11\n",
    "\n",
    "train_lasso_x_scaled  = preprocessing.normalize(train_lasso_x, norm='l1')\n",
    "test_lasso_x_scaled  = preprocessing.normalize(test_lasso_x, norm='l1')"
   ]
  },
  {
   "cell_type": "code",
   "execution_count": 13,
   "metadata": {},
   "outputs": [
    {
     "data": {
      "text/plain": [
       "array([-0.        ,  1.61402366, -0.21140979, -0.        , -0.        ,\n",
       "       -0.        , -0.        ,  1.61051302, -0.        ,  0.        ,\n",
       "        0.        ])"
      ]
     },
     "execution_count": 13,
     "metadata": {},
     "output_type": "execute_result"
    }
   ],
   "source": [
    "clf = linear_model.Lasso(alpha=0.004, tol=0.0001 ,max_iter=5000)\n",
    "clf.fit(train_lasso_x_scaled,train_lasso_y)\n",
    "coef = clf.coef_\n",
    "\n",
    "coef\n",
    "\n",
    "#ch_5,ch_7,ch_5 are the important descriptors"
   ]
  },
  {
   "cell_type": "code",
   "execution_count": 14,
   "metadata": {},
   "outputs": [
    {
     "name": "stdout",
     "output_type": "stream",
     "text": [
      "Data points in train/test:  824 / 206\n"
     ]
    }
   ],
   "source": [
    "train_y = train['lasso'] # what are we predicting \n",
    "test_y = test['lasso']\n",
    "\n",
    "train_x = train[['ch_5','ch_7','dc_5']] # from LASSO \n",
    "test_x = test[['ch_5','ch_7','dc_5']]\n",
    "\n",
    "train_x_scaled  = preprocessing.normalize(train_x, norm='l1')\n",
    "test_x_scaled  = preprocessing.normalize(test_x, norm='l1')\n",
    "\n",
    "# print (train_y.shape, train_x.shape) #check y should by (datapoints,), x should by (datapoints,descriptors)\n",
    "\n",
    "print (\"Data points in train/test: \",train_x.shape[0],\"/\", test_x.shape[0])"
   ]
  },
  {
   "cell_type": "code",
   "execution_count": 15,
   "metadata": {},
   "outputs": [
    {
     "name": "stderr",
     "output_type": "stream",
     "text": [
      "C:\\Users\\pouy5\\anaconda3\\lib\\site-packages\\sklearn\\svm\\_base.py:947: ConvergenceWarning: Liblinear failed to converge, increase the number of iterations.\n",
      "  \"the number of iterations.\", ConvergenceWarning)\n"
     ]
    }
   ],
   "source": [
    "#Support Vector Machine \n",
    "#-->Chosen under the assumption that eventually more batteries will be added with highly dimensional features that \n",
    "# can not be seperated by simple linear or logistic regression models \n",
    "\n",
    "lin_svc = svm.LinearSVC().fit(train_x, train_y)\n",
    "trainpred=lin_svc.predict(train_x_scaled) #predict train data \n",
    "testpred=lin_svc.predict(test_x_scaled)"
   ]
  },
  {
   "cell_type": "markdown",
   "metadata": {},
   "source": [
    "## Accuracy"
   ]
  },
  {
   "cell_type": "code",
   "execution_count": 16,
   "metadata": {},
   "outputs": [],
   "source": [
    "# define a function that calculates the accuracy of the classification\n",
    "def accuracy(test_df,pred_df):\n",
    "    \"\"\"Calculates the amount of data classified correctly\"\"\"\n",
    "    #Input for test_y should be the test dataframe (ex -- see below)\n",
    "    N= len(pred_df)\n",
    "    compare = np.array([test_df.lasso, pred_df]).reshape(N,2)\n",
    "    asses = pd.DataFrame (compare, columns = ['actual','predicted'])\n",
    "    count = 0\n",
    "    correct = 0\n",
    "    for i in range(len(compare)):\n",
    "        if asses.loc[i,('actual')] == asses.loc[i, ('predicted')]:\n",
    "            correct += 1 \n",
    "            count += 1 \n",
    "            asses.loc[i, ('correct')] = 1\n",
    "        else: \n",
    "            count += 1\n",
    "            asses.loc[i, ('correct')] = 0\n",
    "    #print (correct)\n",
    "    return (1-correct/count)*100, asses"
   ]
  },
  {
   "cell_type": "code",
   "execution_count": 17,
   "metadata": {},
   "outputs": [
    {
     "name": "stdout",
     "output_type": "stream",
     "text": [
      "Testing error:  20.39 %\n",
      "Training error:  24.03 %\n"
     ]
    }
   ],
   "source": [
    "# determine the accuracy of the training and testing set\n",
    "test_error, test_df,  = accuracy(test,testpred)\n",
    "train_error, train_df,  = accuracy(train,trainpred)\n",
    "print (\"Testing error: \",\"%.2f\" %test_error,\"%\")\n",
    "print (\"Training error: \",\"%.2f\" %train_error,\"%\")"
   ]
  },
  {
   "cell_type": "code",
   "execution_count": 18,
   "metadata": {},
   "outputs": [
    {
     "data": {
      "text/html": [
       "<div>\n",
       "<style scoped>\n",
       "    .dataframe tbody tr th:only-of-type {\n",
       "        vertical-align: middle;\n",
       "    }\n",
       "\n",
       "    .dataframe tbody tr th {\n",
       "        vertical-align: top;\n",
       "    }\n",
       "\n",
       "    .dataframe thead th {\n",
       "        text-align: right;\n",
       "    }\n",
       "</style>\n",
       "<table border=\"1\" class=\"dataframe\">\n",
       "  <thead>\n",
       "    <tr style=\"text-align: right;\">\n",
       "      <th></th>\n",
       "      <th>ch_5</th>\n",
       "      <th>ch_7</th>\n",
       "      <th>dc_5</th>\n",
       "      <th>Label</th>\n",
       "    </tr>\n",
       "  </thead>\n",
       "  <tbody>\n",
       "    <tr>\n",
       "      <th>209</th>\n",
       "      <td>1.63352</td>\n",
       "      <td>3.89698</td>\n",
       "      <td>3.6107</td>\n",
       "      <td>LiCoO2</td>\n",
       "    </tr>\n",
       "    <tr>\n",
       "      <th>687</th>\n",
       "      <td>10.0183</td>\n",
       "      <td>0</td>\n",
       "      <td>12.2803</td>\n",
       "      <td>LiFePO4</td>\n",
       "    </tr>\n",
       "    <tr>\n",
       "      <th>658</th>\n",
       "      <td>9.9498</td>\n",
       "      <td>0</td>\n",
       "      <td>11.8771</td>\n",
       "      <td>LiFePO4</td>\n",
       "    </tr>\n",
       "    <tr>\n",
       "      <th>768</th>\n",
       "      <td>10.3166</td>\n",
       "      <td>0</td>\n",
       "      <td>11.8076</td>\n",
       "      <td>LiFePO4</td>\n",
       "    </tr>\n",
       "    <tr>\n",
       "      <th>809</th>\n",
       "      <td>10.8254</td>\n",
       "      <td>0</td>\n",
       "      <td>12.281</td>\n",
       "      <td>LiFePO4</td>\n",
       "    </tr>\n",
       "  </tbody>\n",
       "</table>\n",
       "</div>"
      ],
      "text/plain": [
       "        ch_5     ch_7     dc_5    Label\n",
       "209  1.63352  3.89698   3.6107   LiCoO2\n",
       "687  10.0183        0  12.2803  LiFePO4\n",
       "658   9.9498        0  11.8771  LiFePO4\n",
       "768  10.3166        0  11.8076  LiFePO4\n",
       "809  10.8254        0   12.281  LiFePO4"
      ]
     },
     "execution_count": 18,
     "metadata": {},
     "output_type": "execute_result"
    }
   ],
   "source": [
    "# show 5 of the training set\n",
    "pd_train_y = pd.DataFrame(train['label'])\n",
    "frames = [train_x,pd_train_y]\n",
    "datatot = pd.concat(frames, axis=1, ignore_index = True)\n",
    "datatot.columns = 'ch_5', 'ch_7','dc_5', 'Label'\n",
    "datatot.head()"
   ]
  },
  {
   "cell_type": "code",
   "execution_count": 24,
   "metadata": {},
   "outputs": [
    {
     "data": {
      "text/html": [
       "<div>\n",
       "<style scoped>\n",
       "    .dataframe tbody tr th:only-of-type {\n",
       "        vertical-align: middle;\n",
       "    }\n",
       "\n",
       "    .dataframe tbody tr th {\n",
       "        vertical-align: top;\n",
       "    }\n",
       "\n",
       "    .dataframe thead th {\n",
       "        text-align: right;\n",
       "    }\n",
       "</style>\n",
       "<table border=\"1\" class=\"dataframe\">\n",
       "  <thead>\n",
       "    <tr style=\"text-align: right;\">\n",
       "      <th></th>\n",
       "      <th>ch_5</th>\n",
       "      <th>ch_7</th>\n",
       "      <th>dc_5</th>\n",
       "      <th>Label</th>\n",
       "      <th>Color</th>\n",
       "    </tr>\n",
       "  </thead>\n",
       "  <tbody>\n",
       "    <tr>\n",
       "      <th>0</th>\n",
       "      <td>1.63352</td>\n",
       "      <td>3.89698</td>\n",
       "      <td>3.6107</td>\n",
       "      <td>LiCoO2</td>\n",
       "      <td>R</td>\n",
       "    </tr>\n",
       "    <tr>\n",
       "      <th>1</th>\n",
       "      <td>10.0183</td>\n",
       "      <td>0</td>\n",
       "      <td>12.2803</td>\n",
       "      <td>LiFePO4</td>\n",
       "      <td>B</td>\n",
       "    </tr>\n",
       "    <tr>\n",
       "      <th>2</th>\n",
       "      <td>9.9498</td>\n",
       "      <td>0</td>\n",
       "      <td>11.8771</td>\n",
       "      <td>LiFePO4</td>\n",
       "      <td>B</td>\n",
       "    </tr>\n",
       "    <tr>\n",
       "      <th>3</th>\n",
       "      <td>10.3166</td>\n",
       "      <td>0</td>\n",
       "      <td>11.8076</td>\n",
       "      <td>LiFePO4</td>\n",
       "      <td>B</td>\n",
       "    </tr>\n",
       "    <tr>\n",
       "      <th>4</th>\n",
       "      <td>10.8254</td>\n",
       "      <td>0</td>\n",
       "      <td>12.281</td>\n",
       "      <td>LiFePO4</td>\n",
       "      <td>B</td>\n",
       "    </tr>\n",
       "  </tbody>\n",
       "</table>\n",
       "</div>"
      ],
      "text/plain": [
       "      ch_5     ch_7     dc_5    Label Color\n",
       "0  1.63352  3.89698   3.6107   LiCoO2     R\n",
       "1  10.0183        0  12.2803  LiFePO4     B\n",
       "2   9.9498        0  11.8771  LiFePO4     B\n",
       "3  10.3166        0  11.8076  LiFePO4     B\n",
       "4  10.8254        0   12.281  LiFePO4     B"
      ]
     },
     "execution_count": 24,
     "metadata": {},
     "output_type": "execute_result"
    }
   ],
   "source": [
    "# show 5 of the testing set\n",
    "plt.rcParams.update({'font.size':12})\n",
    "\n",
    "colors = ['red', 'blue']\n",
    "datatot = datatot.reset_index(drop = True)\n",
    "for i in range(len(datatot)):\n",
    "    if datatot.loc[i, ('Label')] == 'LiCoO2':\n",
    "        datatot.loc[i, ('Color')] = 'R'\n",
    "    elif datatot.loc[i, ('Label')] == 'LiFePO4':\n",
    "        datatot.loc[i, ('Color')] = 'B'\n",
    "    else: \n",
    "        test_x.loc[i, ('Color')] = 'G'\n",
    "#plt.scatter([datatot['ch_7'], datatot['dc_5'], datatot['ch_5'], c = datatot['Color'])\n",
    "datatot.head()"
   ]
  },
  {
   "cell_type": "code",
   "execution_count": 20,
   "metadata": {},
   "outputs": [
    {
     "data": {
      "text/html": [
       "<div>\n",
       "<style scoped>\n",
       "    .dataframe tbody tr th:only-of-type {\n",
       "        vertical-align: middle;\n",
       "    }\n",
       "\n",
       "    .dataframe tbody tr th {\n",
       "        vertical-align: top;\n",
       "    }\n",
       "\n",
       "    .dataframe thead th {\n",
       "        text-align: right;\n",
       "    }\n",
       "</style>\n",
       "<table border=\"1\" class=\"dataframe\">\n",
       "  <thead>\n",
       "    <tr style=\"text-align: right;\">\n",
       "      <th></th>\n",
       "      <th>ch_5</th>\n",
       "      <th>ch_7</th>\n",
       "      <th>dc_5</th>\n",
       "      <th>Predicted Col</th>\n",
       "    </tr>\n",
       "  </thead>\n",
       "  <tbody>\n",
       "    <tr>\n",
       "      <th>0</th>\n",
       "      <td>9.97241</td>\n",
       "      <td>0</td>\n",
       "      <td>11.6374</td>\n",
       "      <td>B</td>\n",
       "    </tr>\n",
       "    <tr>\n",
       "      <th>1</th>\n",
       "      <td>11.0311</td>\n",
       "      <td>0</td>\n",
       "      <td>12.2452</td>\n",
       "      <td>B</td>\n",
       "    </tr>\n",
       "    <tr>\n",
       "      <th>2</th>\n",
       "      <td>10.2378</td>\n",
       "      <td>0</td>\n",
       "      <td>12.2238</td>\n",
       "      <td>G</td>\n",
       "    </tr>\n",
       "    <tr>\n",
       "      <th>3</th>\n",
       "      <td>9.84954</td>\n",
       "      <td>0</td>\n",
       "      <td>11.3034</td>\n",
       "      <td>G</td>\n",
       "    </tr>\n",
       "    <tr>\n",
       "      <th>4</th>\n",
       "      <td>10.6847</td>\n",
       "      <td>0</td>\n",
       "      <td>12.3985</td>\n",
       "      <td>G</td>\n",
       "    </tr>\n",
       "  </tbody>\n",
       "</table>\n",
       "</div>"
      ],
      "text/plain": [
       "      ch_5 ch_7     dc_5 Predicted Col\n",
       "0  9.97241    0  11.6374             B\n",
       "1  11.0311    0  12.2452             B\n",
       "2  10.2378    0  12.2238             G\n",
       "3  9.84954    0  11.3034             G\n",
       "4  10.6847    0  12.3985             G"
      ]
     },
     "execution_count": 20,
     "metadata": {},
     "output_type": "execute_result"
    }
   ],
   "source": [
    "plt.rcParams.update({'font.size':12})\n",
    "\n",
    "colors = ['red', 'blue']\n",
    "test_df = test_df.reset_index(drop = True)\n",
    "test_x = test_x.reset_index(drop = True)\n",
    "for i in range(len(test_df)):\n",
    "    if test_df.loc[i, ('correct')] == 0:\n",
    "        test_x.loc[i, ('Predicted Col')] = 'G'\n",
    "    elif (test_df.loc[i, ('correct')] == 1) and (test_df.loc[i, ('actual')] == 1) :\n",
    "        test_x.loc[i, ('Predicted Col')] = 'B'\n",
    "    elif (test_df.loc[i, ('correct')] == 1) and (test_df.loc[i, ('actual')] == 0) :\n",
    "        test_x.loc[i, ('Predicted Col')] = 'R'\n",
    "    else:\n",
    "        test_x.loc[i, ('Predicted Col')] = 'G'        \n",
    "test_x.head()"
   ]
  },
  {
   "cell_type": "code",
   "execution_count": 21,
   "metadata": {},
   "outputs": [
    {
     "name": "stderr",
     "output_type": "stream",
     "text": [
      "C:\\Users\\pouy5\\anaconda3\\lib\\site-packages\\ipykernel_launcher.py:5: MatplotlibDeprecationWarning: Support for uppercase single-letter colors is deprecated since Matplotlib 3.1 and will be removed in 3.3; please use lowercase instead.\n",
      "  \"\"\"\n",
      "C:\\Users\\pouy5\\anaconda3\\lib\\site-packages\\ipykernel_launcher.py:6: MatplotlibDeprecationWarning: Support for uppercase single-letter colors is deprecated since Matplotlib 3.1 and will be removed in 3.3; please use lowercase instead.\n",
      "  \n"
     ]
    },
    {
     "data": {
      "image/png": "[encoded data removed]",
      "text/plain": [
       "<Figure size 1440x720 with 3 Axes>"
      ]
     },
     "metadata": {
      "needs_background": "light"
     },
     "output_type": "display_data"
    }
   ],
   "source": [
    "#x's are test data\n",
    "#circles are training data\n",
    "\n",
    "f, (ax1, ax2,ax3) = plt.subplots(1, 3, figsize=(20, 10))\n",
    "ax1.scatter(datatot['ch_5'], datatot['ch_7'], c = datatot['Color'], alpha=0.1, s=100)\n",
    "ax1.scatter(test_x['ch_5'], test_x['ch_7'], c = test_x['Predicted Col'], alpha=0.5, marker = \"x\")\n",
    "ax1.set_xlabel('First Peak Location in Charge Cycle (V)')\n",
    "ax1.set_ylabel('Second Peak Height in Charge Cycle (Ah/V)')\n",
    "ax2.scatter(datatot['ch_5'], datatot['dc_5'], c = datatot['Color'], alpha=0.1, s=100)\n",
    "ax2.scatter(test_x['ch_5'], test_x['dc_5'], c = test_x['Predicted Col'], alpha=0.5, marker = \"x\")\n",
    "ax2.set_xlabel('First Peak Location in Charge Cycle (V)')\n",
    "ax2.set_ylabel('First Peak Location in Disharge Cycle (V)')\n",
    "ax3.scatter(datatot['ch_7'], datatot['dc_5'], c = datatot['Color'], alpha=0.1, s=100)\n",
    "ax3.scatter(test_x['ch_7'], test_x['dc_5'], c = test_x['Predicted Col'], marker = \"x\", alpha = 0.5)\n",
    "ax3.set_xlabel('Second Peak Height in Charge Cycle (Ah/V)')\n",
    "ax3.set_ylabel('First Peak Location in Disharge Cycle (V)')\n",
    "\n",
    "legend_dict = { 'Incorrectly Classified' : 'green', 'LiCoO2' : 'red', 'LiFePO4' : 'blue' }\n",
    "patchList = []\n",
    "for key in legend_dict:\n",
    "        data_key = mpatches.Patch(color=legend_dict[key], label=key)\n",
    "        patchList.append(data_key)\n",
    "\n",
    "plt.legend(handles=patchList,loc='upper right', bbox_to_anchor=(1.6, 1.0))\n",
    "plt.savefig('legend.png', bbox_inches='tight')\n",
    "\n",
    "plt.show()"
   ]
  },
  {
   "cell_type": "code",
   "execution_count": null,
   "metadata": {},
   "outputs": [],
   "source": []
  }
 ],
 "metadata": {
  "kernelspec": {
   "display_name": "Python 3",
   "language": "python",
   "name": "python3"
  },
  "language_info": {
   "codemirror_mode": {
    "name": "ipython",
    "version": 3
   },
   "file_extension": ".py",
   "mimetype": "text/x-python",
   "name": "python",
   "nbconvert_exporter": "python",
   "pygments_lexer": "ipython3",
   "version": "3.7.6"
  }
 },
 "nbformat": 4,
 "nbformat_minor": 4
}
