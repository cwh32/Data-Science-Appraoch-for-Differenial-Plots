{
 "cells": [
  {
   "cell_type": "markdown",
   "metadata": {},
   "source": [
    "# databasewrapers"
   ]
  },
  {
   "cell_type": "markdown",
   "metadata": {},
   "source": [
    "### This notebook shows all the function in `databasewrapers.py`, and briefy illusrtrates their usages."
   ]
  },
  {
   "cell_type": "markdown",
   "metadata": {},
   "source": [
    "There are 7 functions in this py.file, includes "
   ]
  },
  {
   "cell_type": "markdown",
   "metadata": {},
   "source": [
    "* `process_data`\n",
    "* `parse_update_master`\n",
    "* `macc_chardis` \n",
    "* `if_file_exists_in_db`\n",
    "* `get_db_filenames`\n",
    "* `my_pseudovoigt` \n",
    "* `param_dicts_to_df`"
   ]
  },
  {
   "cell_type": "markdown",
   "metadata": {},
   "source": [
    "Basically,"
   ]
  },
  {
   "cell_type": "markdown",
   "metadata": {},
   "source": [
    "### 1. `process_data(file_name, database_name, decoded_contents, datatype, thresh1, thresh2, username)`\n",
    "This function takes a raw file(`file_name`) from the database(`database_name`), seperates cycles, cleans cycles, gets descriptors, and puts back to the database."
   ]
  },
  {
   "cell_type": "markdown",
   "metadata": {},
   "source": [
    "And it includes:"
   ]
  },
  {
   "cell_type": "markdown",
   "metadata": {},
   "source": [
    "#### A. `parse_update_master`\n",
    "#### B. `load_sep_cycles` from `chachifuncs.py`\n",
    "#### C. `get_clean_cycles` from `chachifuncs.py`\n",
    "#### D. `get_clean_sets` from `chachifuncs.py`"
   ]
  },
  {
   "cell_type": "markdown",
   "metadata": {},
   "source": [
    "### 2. `parse_update_master(file_name, database_name, datatype, decoded_contents, username)`\n",
    "This function takes the information from the file(`file_name`), updates the master table in the database(`database_name`) and also adds the raw dataframe in the database."
   ]
  },
  {
   "cell_type": "markdown",
   "metadata": {},
   "source": [
    "And it includes:"
   ]
  },
  {
   "cell_type": "markdown",
   "metadata": {},
   "source": [
    "#### A. `macc_chardis`\n",
    "#### B. `calc_dq_dqdv` from `chachifuncs.py`\n",
    "#### C. `update_database_newtable` from `databasefuncs.py`\n",
    "#### D. `update_master_table` from `databasefuncs.py`"
   ]
  },
  {
   "cell_type": "markdown",
   "metadata": {},
   "source": [
    "### 3. `macc_chardis(row)`\n",
    "This function differentiate whether the `\"Md\"` in a specified row is `\"D\"` or not, if it is, return `\"-1\"`, if not, return `\"1\"`."
   ]
  },
  {
   "cell_type": "markdown",
   "metadata": {},
   "source": [
    "### 4. `if_file_exists_in_db(database_name, file_name)`\n",
    "This function checks whether a desired file(`file_name`) exists within a specified database(`database_name`)."
   ]
  },
  {
   "cell_type": "markdown",
   "metadata": {},
   "source": [
    "### 5. `get_db_filenames(database_name, username)`\n",
    "This functions can get all the files' name from a specified database(`database_name`)."
   ]
  },
  {
   "cell_type": "markdown",
   "metadata": {},
   "source": [
    "### 6. `my_pseudovoigt(x, cent, amp, fract, sigma)`\n",
    "This function is from http://cars9.uchicago.edu/software/python/lmfit/builtin_models.html, which fits the data with Pseudo-Voight Distribution."
   ]
  },
  {
   "cell_type": "markdown",
   "metadata": {},
   "source": [
    "### 7. `param_dicts_to_df(mod_params_name, database)`"
   ]
  },
  {
   "cell_type": "markdown",
   "metadata": {},
   "source": [
    "And it includes:"
   ]
  },
  {
   "cell_type": "markdown",
   "metadata": {},
   "source": [
    "#### A. `dfsortpeakvals` from `descriptors.py`\n",
    "#### B. `get_file_from_database` from `databasefuncs.py`\n",
    "#### C. `update_database_newtable` from `databasefuncs.py`"
   ]
  }
 ],
 "metadata": {
  "kernelspec": {
   "display_name": "Python 3",
   "language": "python",
   "name": "python3"
  },
  "language_info": {
   "codemirror_mode": {
    "name": "ipython",
    "version": 3
   },
   "file_extension": ".py",
   "mimetype": "text/x-python",
   "name": "python",
   "nbconvert_exporter": "python",
   "pygments_lexer": "ipython3",
   "version": "3.7.1"
  }
 },
 "nbformat": 4,
 "nbformat_minor": 2
}
