{
 "cells": [
  {
   "cell_type": "markdown",
   "metadata": {},
   "source": [
    "# descriptors"
   ]
  },
  {
   "cell_type": "markdown",
   "metadata": {},
   "source": [
    "### This notebook illustrates and demostrates the usage of the function in `descriptors.py`."
   ]
  },
  {
   "cell_type": "markdown",
   "metadata": {},
   "source": [
    "There are 2 classes and 3 functions in this py.file, including"
   ]
  },
  {
   "cell_type": "markdown",
   "metadata": {},
   "source": [
    "* class `process`\n",
    "* class `fitters`\n",
    "* `dfsortpeakvals` \n",
    "* `get_descriptors`\n",
    "* `dflists_to_dfind`"
   ]
  },
  {
   "cell_type": "code",
   "execution_count": 4,
   "metadata": {},
   "outputs": [],
   "source": [
    "# Import required packages\n",
    "import scipy.signal\n",
    "import pandas as pd\n",
    "import numpy as np\n",
    "import peakutils\n",
    "from lmfit import models\n",
    "import sys\n",
    "sys.path.append(\"../data-science-appraoch-for-tdp\")\n",
    "import chachifuncs as ccf\n",
    "import descriptors\n",
    "import os\n",
    "import glob\n",
    "import databasefuncs as dbfs"
   ]
  },
  {
   "cell_type": "markdown",
   "metadata": {},
   "source": [
    "## Class `fitters`"
   ]
  },
  {
   "cell_type": "markdown",
   "metadata": {},
   "source": [
    "And it includes"
   ]
  },
  {
   "cell_type": "markdown",
   "metadata": {},
   "source": [
    "* `cd_dataframe`\n",
    "* `label_gen`\n",
    "* `model_gen`\n",
    "* `model_eval`\n",
    "* `peak_finder`\n",
    "* `descriptor_func`"
   ]
  },
  {
   "cell_type": "markdown",
   "metadata": {},
   "source": [
    "### 1. `cd_dataframe(V_series, dQdV_series, cd)`\n",
    "This function classifies and flips differential capactity data, `V_series` = Pandas series of voltage data, `dQdV_series` = Pandas series of differential capacity data, `cd` = either 'c' for charge and 'd' for discharge."
   ]
  },
  {
   "cell_type": "markdown",
   "metadata": {},
   "source": [
    "### 2. `label_gen(index)`\n",
    "This function generates label set for individual gaussian, `index` = index of peak location."
   ]
  },
  {
   "cell_type": "markdown",
   "metadata": {},
   "source": [
    "### 3. `model_gen(V_series, dQdV_series, cd, i, cyc, thresh)*`\n",
    "This function develops initial model and parameters for battery data fitting, `V_series` = Pandas series of voltage data, `dQdV_series` = Pandas series of differential capacity data and `cd` = either 'c' for charge and 'd' for discharge, `i` is the index of peaks which one of the outputs of `peak_finder`."
   ]
  },
  {
   "cell_type": "markdown",
   "metadata": {},
   "source": [
    "### 4. `model_eval(V_series, dQdV_series, cd, par, mod)`\n",
    "This function evaluates lmfit model generated in `model_gen`, `V_series` = Pandas series of voltage data, `dQdV_series` = Pandas series of differential capacity data, `cd` = either 'c' for charge and 'd' for discharge, `par` = lmfit parameters object and `mod` = lmfit model object. (Both `par` and `mod` are from `model_gen`)"
   ]
  },
  {
   "cell_type": "markdown",
   "metadata": {},
   "source": [
    "### 5. `peak_finder(df_run, cd, windowlength, polyorder, datatype, lenmax, peak_thresh)*`\n",
    "This function determines the index of each peak in a dQdV curve, `df_run` is the dataframe that consists `V_series` and `dQdV_series`, `cd` = either 'c' for charge and 'd' for discharge, `windowlength` is, `polyorder` is, `datatype` is, `lenmax` is the maximum lengh of the import data which is determined in `imp_all`,"
   ]
  },
  {
   "cell_type": "markdown",
   "metadata": {},
   "source": [
    "### 6. `descriptor_func(df_run, cd, cyc, battery, windowlength, polyorder, datatype, lenmax)*`\n",
    "This function generates dictionary of descriptors/error parameters, `df_run` is the dataframe that consists `V_series` and `dQdV_series`, `cd` = either 'c' for charge and 'd' for discharge, `lenmax` is the maximum lengh of the import data which is determined in `imp_all`"
   ]
  },
  {
   "cell_type": "markdown",
   "metadata": {},
   "source": [
    "## Class `proccess`"
   ]
  },
  {
   "cell_type": "markdown",
   "metadata": {},
   "source": [
    "And it includes"
   ]
  },
  {
   "cell_type": "markdown",
   "metadata": {},
   "source": [
    "* `df_generate`\n",
    "* `imp_all`\n",
    "* `pd_create`\n",
    "* `pd_update`\n",
    "* `dict_2_list`\n",
    "* `imp_one_cycle`"
   ]
  },
  {
   "cell_type": "markdown",
   "metadata": {},
   "source": [
    "### 1. `imp_one_cycle(testdf, cd, cyc_loop, battery, datatype, windowlength, polyorder, lenmax)`\n",
    "This function imports and fits a single charge discharge cycle of a battery."
   ]
  },
  {
   "cell_type": "markdown",
   "metadata": {},
   "source": [
    "inputs:\n",
    "* testdf = a dataframe which is in the import_dictionary in `imp_all` and consists the data of `charge` and `dischrge`\n",
    "* cd = either `c` for charge and `d` for discharge\n",
    "* cyc_loop = cycle number\n",
    "* battery = battery name which is in the import_dictionary in `imp_all`\n",
    "* datatype = \n",
    "* windowlength =\n",
    "* polyorder = \n",
    "* lenmax = the maximum lengh of the import data which is determined in `imp_all`"
   ]
  },
  {
   "cell_type": "markdown",
   "metadata": {},
   "source": [
    "### 2. `imp_all(import_dictionary, cd, datatype, windowlength, polyorder)`\n",
    "This function generates a Pandas dataframe of descriptors for a single battery."
   ]
  },
  {
   "cell_type": "markdown",
   "metadata": {},
   "source": [
    "inputs:\n",
    "* import_dictionary = string containing directory with the excel sheets for individual cycle data \n",
    "* cd = either `c` for charge and `d` for discharge\n",
    "* cyc_loop = cycle number\n",
    "* battery = battery name which is in the import_dictionary in `imp_all`\n",
    "* datatype = \n",
    "* windowlength =\n",
    "* polyorder = "
   ]
  },
  {
   "cell_type": "markdown",
   "metadata": {},
   "source": [
    "### 3. `df_generate(import_dictionary, cd, datatype, windowlength, polyorder)`\n",
    "This function creates a pandas dataframe for each battery's charge/discharge cycle in the import_filepath folder."
   ]
  },
  {
   "cell_type": "markdown",
   "metadata": {},
   "source": [
    "inputs: exactly the same as the function `imp_all`"
   ]
  },
  {
   "cell_type": "markdown",
   "metadata": {},
   "source": [
    "### 4. `pd_create(cd)`\n",
    "This function creates a blank dataframe containing either charge or discharge descriptors/error parameters."
   ]
  },
  {
   "cell_type": "markdown",
   "metadata": {},
   "source": [
    "inputs:\n",
    "* cd = either `c` for charge and `d` for discharge"
   ]
  },
  {
   "cell_type": "markdown",
   "metadata": {},
   "source": [
    "### 5. `pd_update(desc, charge_descript)`\n",
    "This function adds a list of charge descriptors to a pandas dataframe."
   ]
  },
  {
   "cell_type": "markdown",
   "metadata": {},
   "source": [
    "inputs:\n",
    "* desc = dataframe from function `pd_create`\n",
    "* charge_descript = descriptor dictionaries"
   ]
  },
  {
   "cell_type": "markdown",
   "metadata": {},
   "source": [
    "### 6. `dict_2_list(desc)`\n",
    "This function converts a dictionary of descriptors into a list for pandas assignment."
   ]
  },
  {
   "cell_type": "markdown",
   "metadata": {},
   "source": [
    "inputs:\n",
    "* desc = dictionary containing descriptors"
   ]
  },
  {
   "cell_type": "markdown",
   "metadata": {},
   "source": [
    "### And other 3 individual functions are as shown below"
   ]
  },
  {
   "cell_type": "markdown",
   "metadata": {},
   "source": [
    "### 1. `dflists_to_dfind(df)`\n",
    "This function takes the dataframe of lists and based on max length of list in each column, puts each value into individual columns and this is the df that will be written to the database."
   ]
  },
  {
   "cell_type": "markdown",
   "metadata": {},
   "source": [
    "inputs:\n",
    "* df = "
   ]
  },
  {
   "cell_type": "markdown",
   "metadata": {},
   "source": [
    "### 2. `dfsortpeakvals(mydf, cd)`\n",
    "This function  sorts the peak values based off of all the other values in the daataframe, so that all that belong to peak 1 are in the peak one column etc."
   ]
  },
  {
   "cell_type": "markdown",
   "metadata": {},
   "source": [
    "inputs:\n",
    "* mydf = A dataframe of peaks that only consists charge or discharge data.\n",
    "* cd = either `c` for charge and `d` for discharge"
   ]
  },
  {
   "cell_type": "markdown",
   "metadata": {},
   "source": [
    "### 3. `get_descriptors(import_dictionary, datatype, windowlength, polyorder)`\n",
    "This function generates a dataframe containing charge and discharge descriptors/error parameters and writes descriptors to an excel spreadsheet `describe.xlsx` as well."
   ]
  },
  {
   "cell_type": "markdown",
   "metadata": {},
   "source": [
    "inputs:\n",
    "* import_dictionary = dictionary containing directory of clean and separated cycles \n",
    "* datatype = \n",
    "* windowlength =\n",
    "* polyorder = "
   ]
  },
  {
   "cell_type": "code",
   "execution_count": null,
   "metadata": {},
   "outputs": [],
   "source": []
  }
 ],
 "metadata": {
  "kernelspec": {
   "display_name": "Python 3",
   "language": "python",
   "name": "python3"
  },
  "language_info": {
   "codemirror_mode": {
    "name": "ipython",
    "version": 3
   },
   "file_extension": ".py",
   "mimetype": "text/x-python",
   "name": "python",
   "nbconvert_exporter": "python",
   "pygments_lexer": "ipython3",
   "version": "3.7.1"
  }
 },
 "nbformat": 4,
 "nbformat_minor": 2
}
