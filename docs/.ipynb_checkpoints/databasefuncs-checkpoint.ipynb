{
 "cells": [
  {
   "cell_type": "markdown",
   "metadata": {},
   "source": [
    "# databasefuncs -  acts within or from the database"
   ]
  },
  {
   "cell_type": "markdown",
   "metadata": {},
   "source": [
    "### This notebook lists all the function in `databasefuncs.py`, and briefy illusrtrates their usages."
   ]
  },
  {
   "cell_type": "markdown",
   "metadata": {},
   "source": [
    "There are 4 functions in this py.file, includes "
   ]
  },
  {
   "cell_type": "markdown",
   "metadata": {},
   "source": [
    "* 1.`update_database_newtable`\n",
    "* 2.`get_file_from_database`\n",
    "* 3.`init_master_table` \n",
    "* 4.`pdate_master_table`"
   ]
  },
  {
   "cell_type": "markdown",
   "metadata": {},
   "source": [
    "### 1. `update_database_newtable(df, upload_filename, database_name)`\n",
    "This function adds a specific dataframe, could be a clean cycle, into sqlite database in the form of table and named as 'upload_filename'."
   ]
  },
  {
   "cell_type": "markdown",
   "metadata": {},
   "source": [
    "inputs:\n",
    "* df = a spefific dataframe which needs to be updated into the database\n",
    "* upload_filename = the name for the updated dataframe\n",
    "* database_name = a desired database"
   ]
  },
  {
   "cell_type": "markdown",
   "metadata": {},
   "source": [
    "### 2. `get_file_from_database(name, database)`\n",
    "This function gets a file from the database."
   ]
  },
  {
   "cell_type": "markdown",
   "metadata": {},
   "source": [
    "inputs:\n",
    "* name = a specific file \n",
    "* database = a desired database"
   ]
  },
  {
   "cell_type": "markdown",
   "metadata": {},
   "source": [
    "### 3. `init_master_table(database_name)`\n",
    "This function initiates a master table in a database."
   ]
  },
  {
   "cell_type": "markdown",
   "metadata": {},
   "source": [
    "inputs:\n",
    "* database_name = a desired database"
   ]
  },
  {
   "cell_type": "markdown",
   "metadata": {},
   "source": [
    "### 4. `update_master_table(update_dic, database_name, username)`\n",
    "This function update a master table, which is in the form of dictionary, to the database."
   ]
  },
  {
   "cell_type": "markdown",
   "metadata": {},
   "source": [
    "inputs:\n",
    "* update_dic = a master table that needs to be updated\n",
    "* database_name = a desired database\n",
    "* username = "
   ]
  }
 ],
 "metadata": {
  "kernelspec": {
   "display_name": "Python 3",
   "language": "python",
   "name": "python3"
  },
  "language_info": {
   "codemirror_mode": {
    "name": "ipython",
    "version": 3
   },
   "file_extension": ".py",
   "mimetype": "text/x-python",
   "name": "python",
   "nbconvert_exporter": "python",
   "pygments_lexer": "ipython3",
   "version": "3.7.1"
  }
 },
 "nbformat": 4,
 "nbformat_minor": 2
}
