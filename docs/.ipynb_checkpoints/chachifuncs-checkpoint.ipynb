{
 "cells": [
  {
   "cell_type": "markdown",
   "metadata": {},
   "source": [
    "# chachifuncs"
   ]
  },
  {
   "cell_type": "markdown",
   "metadata": {},
   "source": [
    "### This notebook shows all the function in `chachifuncs.py`, and briefy illusrtrates their usages."
   ]
  },
  {
   "cell_type": "markdown",
   "metadata": {},
   "source": [
    "There are 11 functions in this py.file, includes "
   ]
  },
  {
   "cell_type": "markdown",
   "metadata": {},
   "source": [
    "* `col_variables`\n",
    "* `load_sep_cycles`\n",
    "* `clean_calc_sep_smooth` \n",
    "* `init_columns`\n",
    "* `calc_dq_dqdv`\n",
    "* `drop_0_dv`\n",
    "* `sep_char_dis`\n",
    "* `my_savgolay`\n",
    "* `get_clean_cycles`\n",
    "* `clean_calc_sep_smooth`\n",
    "* `get_clean_sets`"
   ]
  },
  {
   "cell_type": "markdown",
   "metadata": {},
   "source": [
    "In short, these 11 functions are doing the main work of this package."
   ]
  },
  {
   "cell_type": "markdown",
   "metadata": {},
   "source": [
    "### 1. `col_variables`\n",
    "First, because there are two types of data in our database - 'CALCE' and 'MACCOR', we need to define the names of each columns according different types."
   ]
  },
  {
   "cell_type": "markdown",
   "metadata": {},
   "source": [
    "### 2. `load_sep_cycles`\n",
    "This function is getting data from a specified file, separating out data into cycles and saves those cycles as `.xlsx` files in specified filepath (must be an existing folder)"
   ]
  },
  {
   "cell_type": "markdown",
   "metadata": {},
   "source": [
    "### 3. `clean_calc_sep_smooth` includes \n",
    "#### A. `init_columns` B. `calc_dq_dqdv` C. `drop_0_dv` D. `sep_char_dis` E. `my_savgolay`\n",
    "This function takes one cycle dataframe, calculates `dQ/dV`, cleans the data, separates out charge and discharge, and applies sav-golay filter. Returns two dataframes, one charge and one discharge. Windowlength and polyorder are for the sav-golay filter."
   ]
  },
  {
   "cell_type": "markdown",
   "metadata": {},
   "source": [
    "#### A.  `init_columns`\n",
    "This function sets up the columns for `dV`, `Discharge_dQ` and `Charge_dQ`."
   ]
  },
  {
   "cell_type": "markdown",
   "metadata": {},
   "source": [
    "#### B. `calc_dq_dqdv`\n",
    "This function calculates the value of `dQ/dV`."
   ]
  },
  {
   "cell_type": "markdown",
   "metadata": {},
   "source": [
    "#### C. `drop_0_dv`\n",
    "Thie function drops rows where dv=0 (or about 0) in a dataframe that has already had dv calculated. Then recalculates `dV` and calculates `dQ/dV`."
   ]
  },
  {
   "cell_type": "markdown",
   "metadata": {},
   "source": [
    "#### D. `sep_char_dis`\n",
    "This function takes a dataframe of one cycle with calculated `dQ/dV` and separates into charge and discharge differential capacity curves."
   ]
  },
  {
   "cell_type": "markdown",
   "metadata": {},
   "source": [
    "#### E. `my_savgolay`\n",
    "This function takes battery dataframe with a `dQ/dV` column and applies a sav_golay filter to it, returning the dataframe with a new column called `Smoothed_dQ/dV`."
   ]
  },
  {
   "cell_type": "markdown",
   "metadata": {},
   "source": [
    "### 4. `get_clean_cycles` includes \n",
    "#### A. `clean_calc_sep_smooth`\n",
    "This function imports all separated out cycles in given path and cleans them  and saves them in the specified filepath."
   ]
  },
  {
   "cell_type": "markdown",
   "metadata": {},
   "source": [
    "### 5. `get_clean_sets` includes\n",
    "#### A. `update_database_newtable` from `databasefuncs.py`\n",
    "This function imports all clean cycles of data from import path and appends them into complete sets of battery data, saved into save_filepath."
   ]
  }
 ],
 "metadata": {
  "kernelspec": {
   "display_name": "Python 3",
   "language": "python",
   "name": "python3"
  },
  "language_info": {
   "codemirror_mode": {
    "name": "ipython",
    "version": 3
   },
   "file_extension": ".py",
   "mimetype": "text/x-python",
   "name": "python",
   "nbconvert_exporter": "python",
   "pygments_lexer": "ipython3",
   "version": "3.7.1"
  }
 },
 "nbformat": 4,
 "nbformat_minor": 2
}
