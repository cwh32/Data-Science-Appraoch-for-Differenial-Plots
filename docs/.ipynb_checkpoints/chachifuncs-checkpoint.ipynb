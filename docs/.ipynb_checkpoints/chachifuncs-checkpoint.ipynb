{
 "cells": [
  {
   "cell_type": "markdown",
   "metadata": {},
   "source": [
    "# chachifuncs"
   ]
  },
  {
   "cell_type": "markdown",
   "metadata": {},
   "source": [
    "### This notebook lists all the function in `chachifuncs.py`, and briefy illusrtrates their usages."
   ]
  },
  {
   "cell_type": "markdown",
   "metadata": {},
   "source": [
    "There are 10 functions in this py.file, includes "
   ]
  },
  {
   "cell_type": "markdown",
   "metadata": {},
   "source": [
    "* 1.`col_variables`\n",
    "* 2.`load_sep_cycles`\n",
    "* 3.`clean_calc_sep_smooth` \n",
    "* 4.`init_columns`\n",
    "* 5.`calc_dq_dqdv`\n",
    "* 6.`drop_0_dv`\n",
    "* 7.`sep_char_dis`\n",
    "* 8.`my_savgolay`\n",
    "* 9.`get_clean_cycles`\n",
    "* 10.`get_clean_sets`"
   ]
  },
  {
   "cell_type": "markdown",
   "metadata": {},
   "source": [
    "In short, these 10 functions are doing the main work of this package."
   ]
  },
  {
   "cell_type": "markdown",
   "metadata": {},
   "source": [
    "### 1. `col_variables(datatype)`\n",
    "This function set up the name of each columns according to the datatype('CALCE' or 'MACCOR'). The columns include: cycle_ind_col, data_point_col, volt_col, curr_col, dis_cap_col, char_cap_col, charge_or_discharge."
   ]
  },
  {
   "cell_type": "markdown",
   "metadata": {},
   "source": [
    "inputs:\n",
    "* datatype = either 'CALCE' or 'MACCOR'"
   ]
  },
  {
   "cell_type": "markdown",
   "metadata": {},
   "source": [
    "(CALCE = the data from the CALCE website, MACCOR = the data from our lab)"
   ]
  },
  {
   "cell_type": "markdown",
   "metadata": {},
   "source": [
    "### 2. `load_sep_cycles(file_name, database_name, datatype)`\n",
    "This function is getting data from a specified file, separating out data into cycles and saves those cycles as .xlsx files in specified filepath (must be an existing folder)."
   ]
  },
  {
   "cell_type": "markdown",
   "metadata": {},
   "source": [
    "inputs:\n",
    "* file_name = a specified file in the desired database\n",
    "* database_name = a desired database\n",
    "* datatype = either 'CALCE' or 'MACCOR'"
   ]
  },
  {
   "cell_type": "markdown",
   "metadata": {},
   "source": [
    "### 3. `clean_calc_sep_smooth(dataframe, windowlength, polyorder, thresh1, thresh2, datatype)` \n",
    "This function takes one cycle dataframe, calculates dQ/dV, cleans the data, separates out charge and discharge, and applies sav-golay filter. Returns two dataframes, one charge and one discharge. Windowlength and polyorder are for the sav-golay filter."
   ]
  },
  {
   "cell_type": "markdown",
   "metadata": {},
   "source": [
    "inputs:\n",
    "* dataframe = a dataframe with a dQ/dV column\n",
    "* windowlength = 9\n",
    "* polyorder = 3\n",
    "* thresh1 = the start voltage of the range to exclude from the data, 4.17\n",
    "* thresh2 = the end voltage of the range to exclude from the data, 4.25\n",
    "* datatype = either 'CALCE' or 'MACCOR'"
   ]
  },
  {
   "cell_type": "markdown",
   "metadata": {},
   "source": [
    "### And it includes"
   ]
  },
  {
   "cell_type": "markdown",
   "metadata": {},
   "source": [
    "#### 4.  `init_columns(cycle_df, datatype)`\n",
    "This function sets up the columns of 'dV', 'Discharge_dQ' and 'Charge_dQ' for a certain cycle."
   ]
  },
  {
   "cell_type": "markdown",
   "metadata": {},
   "source": [
    "inputs:\n",
    "* cycle_df = a dataframe with a dQ/dV column of a certain cycle\n",
    "* datatype = either 'CALCE' or 'MACCOR'"
   ]
  },
  {
   "cell_type": "markdown",
   "metadata": {},
   "source": [
    "#### 5. `calc_dq_dqdv(cycle_df, datatype)`\n",
    "This function calculates the value of dQ/dV."
   ]
  },
  {
   "cell_type": "markdown",
   "metadata": {},
   "source": [
    "inputs:\n",
    "* cycle_df =  a dataframe with a dQ/dV column of a certain cycle after excuting function `init_columns`\n",
    "* datatype = either 'CALCE' or 'MACCOR'"
   ]
  },
  {
   "cell_type": "markdown",
   "metadata": {},
   "source": [
    "#### 6. `drop_0_dv(cycle_df_dv, thresh1, thresh2, datatype)`\n",
    "Thie function drops rows where dV=0 (or about 0) in a dataframe that has already had dv calculated. Then recalculates dV and calculates dQ/dV."
   ]
  },
  {
   "cell_type": "markdown",
   "metadata": {},
   "source": [
    "inputs:\n",
    "* cycle_df_dv = a dataframe with a dQ/dV column of a certain cycle after excuting function `calc_dq_dqdv`\n",
    "* thresh1 = the start voltage of the range to exclude from the data, 4.17\n",
    "* thresh2 = the end voltage of the range to exclude from the data, 4.25\n",
    "* datatype = either 'CALCE' or 'MACCOR'"
   ]
  },
  {
   "cell_type": "markdown",
   "metadata": {},
   "source": [
    "#### 7. `sep_char_dis(df_dqdv, datatype)`\n",
    "This function takes a dataframe of one cycle with calculated dQ/dV and separates into charge and discharge differential capacity curves."
   ]
  },
  {
   "cell_type": "markdown",
   "metadata": {},
   "source": [
    "inputs:\n",
    "* df_dqdv =  a dataframe with a dQ/dV column of a certain cycle after excuting function `drop_0_dv`\n",
    "* datatype = either 'CALCE' or 'MACCOR'"
   ]
  },
  {
   "cell_type": "markdown",
   "metadata": {},
   "source": [
    "#### 8. `my_savgolay(dataframe, windowlength, polyorder)`\n",
    "This function takes battery dataframe with a dQ/dV column and applies a sav_golay filter to it, returning the dataframe with a new column called Smoothed_dQ/dV."
   ]
  },
  {
   "cell_type": "markdown",
   "metadata": {},
   "source": [
    "inputs:\n",
    "* dataframe = a dataframe with a dQ/dV column of a certain cycle after excuting function `sep_char_dis`\n",
    "* windowlength = 21\n",
    "* polyorder = 3"
   ]
  },
  {
   "cell_type": "markdown",
   "metadata": {},
   "source": [
    "### 9.`get_clean_cycles(cycle_dict, file_name, database_name, datatype, thresh1, thresh2)`\n",
    "This function imports all separated out cycles in given path and cleans them  and saves them in the specified filepath."
   ]
  },
  {
   "cell_type": "markdown",
   "metadata": {},
   "source": [
    "inputs:\n",
    "* cycle_dict = a dictionary for all the cylces with their own dataframe of dQ/dV column\n",
    "* file_name = a specified file in the desired database\n",
    "* database_name =  a desired database\n",
    "* datatype = either 'CALCE' or 'MACCOR'\n",
    "* thresh1 = the start voltage of the range to exclude from the data, 4.17\n",
    "* thresh2 = the end voltage of the range to exclude from the data, 4.25"
   ]
  },
  {
   "cell_type": "markdown",
   "metadata": {},
   "source": [
    "### And it includes"
   ]
  },
  {
   "cell_type": "markdown",
   "metadata": {},
   "source": [
    "#### 3. `clean_calc_sep_smooth(dataframe, windowlength, polyorder, thresh1, thresh2, datatype)`"
   ]
  },
  {
   "cell_type": "markdown",
   "metadata": {},
   "source": [
    "### 10. `get_clean_sets(clean_cycle_dict, file_name, database_name)` \n",
    "This function imports all clean cycles of data from import path and appends them into complete sets of battery data, saved into save_filepath."
   ]
  },
  {
   "cell_type": "markdown",
   "metadata": {},
   "source": [
    "inputs:\n",
    "* clean_cycle_dict = a dictionary for all the cylces that have been cleaned by the function 'get_clean_cycles'\n",
    "* file_name = a specified file in the desired database\n",
    "* database_name =  a desired database"
   ]
  }
 ],
 "metadata": {
  "kernelspec": {
   "display_name": "Python 3",
   "language": "python",
   "name": "python3"
  },
  "language_info": {
   "codemirror_mode": {
    "name": "ipython",
    "version": 3
   },
   "file_extension": ".py",
   "mimetype": "text/x-python",
   "name": "python",
   "nbconvert_exporter": "python",
   "pygments_lexer": "ipython3",
   "version": "3.7.1"
  }
 },
 "nbformat": 4,
 "nbformat_minor": 2
}
