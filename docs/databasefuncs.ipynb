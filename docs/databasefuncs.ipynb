{
 "cells": [
  {
   "cell_type": "markdown",
   "metadata": {},
   "source": [
    "# databasefuncs"
   ]
  },
  {
   "cell_type": "markdown",
   "metadata": {},
   "source": [
    "### This notebook illustrates and demostrates the usage of the function in `databasefuncs.py`."
   ]
  },
  {
   "cell_type": "markdown",
   "metadata": {},
   "source": [
    "There are 4 functions in this py.file, includes "
   ]
  },
  {
   "cell_type": "markdown",
   "metadata": {},
   "source": [
    "* `update_database_newtable`\n",
    "* `get_file_from_database`\n",
    "* `init_master_table` \n",
    "* `pdate_master_table`"
   ]
  },
  {
   "cell_type": "markdown",
   "metadata": {},
   "source": [
    "In short, all these 4 functions describe the acts within or from the database."
   ]
  },
  {
   "cell_type": "code",
   "execution_count": 1,
   "metadata": {},
   "outputs": [],
   "source": [
    "# Import required packages\n",
    "import pandas as pd\n",
    "import pandas.io.sql as pd_sql\n",
    "import sqlite3 as sql"
   ]
  },
  {
   "cell_type": "markdown",
   "metadata": {},
   "source": [
    "### 1. `update_database_newtable(df, upload_filename, database_name)`\n",
    "This function adds a specific dataframe(`df`),could be a clean cycle, into sqlite database(`database_name`) in the form of table and named as `upload_filename`."
   ]
  },
  {
   "cell_type": "markdown",
   "metadata": {},
   "source": [
    "It is used in:\n",
    "* `load_sep_cycles` from `chachifuncs.py`\n",
    "* `get_clean_cycles` from `chachifuncs.py`\n",
    "* `get_clean_sets` from `chachifuncs.py`"
   ]
  },
  {
   "cell_type": "markdown",
   "metadata": {},
   "source": [
    "### 2. `get_file_from_database(name, database)`\n",
    "This function gets a file(`name`) from the database(`database`)."
   ]
  },
  {
   "cell_type": "markdown",
   "metadata": {},
   "source": [
    "It is used in:\n",
    "* `load_sep_cycles` from `chachifuncs.py`"
   ]
  },
  {
   "cell_type": "markdown",
   "metadata": {},
   "source": [
    "### 3. `init_master_table(database_name)`\n",
    "This function initiates a master table in a database(`database_name`)."
   ]
  },
  {
   "cell_type": "markdown",
   "metadata": {},
   "source": [
    "It is used in:\n",
    "* `app.py`\n",
    "* `process_alldata.py`\n",
    "* `process_data` from `databasewrappers.py`\n",
    "* `process_data` from `databasewrappers_forjupyter.py`"
   ]
  },
  {
   "cell_type": "markdown",
   "metadata": {},
   "source": [
    "### 4. `update_master_table(update_dic, database_name, username)`\n",
    "This function update a master table(`update_dic`),which is in the form of dictionary, to the database(`database_name`)."
   ]
  },
  {
   "cell_type": "markdown",
   "metadata": {},
   "source": [
    "It is used in:\n",
    "* `parse_update_master` from `databasewrappers.py`\n",
    "* `parse_update_master` from `databasewrappers_forjupyter.py`"
   ]
  }
 ],
 "metadata": {
  "kernelspec": {
   "display_name": "Python 3",
   "language": "python",
   "name": "python3"
  },
  "language_info": {
   "codemirror_mode": {
    "name": "ipython",
    "version": 3
   },
   "file_extension": ".py",
   "mimetype": "text/x-python",
   "name": "python",
   "nbconvert_exporter": "python",
   "pygments_lexer": "ipython3",
   "version": "3.7.1"
  }
 },
 "nbformat": 4,
 "nbformat_minor": 2
}
