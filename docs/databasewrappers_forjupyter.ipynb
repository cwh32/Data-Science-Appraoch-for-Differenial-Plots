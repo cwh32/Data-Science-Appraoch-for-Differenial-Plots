{
 "cells": [
  {
   "cell_type": "markdown",
   "metadata": {},
   "source": [
    "# databasewrapers_forjupyter"
   ]
  },
  {
   "cell_type": "markdown",
   "metadata": {},
   "source": [
    "### This notebook shows all the function in `databasewrapers_forjupyter.py`, and briefy illusrtrates their usages."
   ]
  },
  {
   "cell_type": "markdown",
   "metadata": {},
   "source": [
    "There are 9 functions in this py.file, includes "
   ]
  },
  {
   "cell_type": "markdown",
   "metadata": {},
   "source": [
    "* `process_data`\n",
    "* `parse_update_master`\n",
    "* `macc_chardis` \n",
    "* `if_file_exists_in_db`\n",
    "* `get_db_filenames`\n",
    "* `my_pseudovoigt` \n",
    "* `param_dicts_to_df`\n",
    "* `generate_model_for_jupyter`\n",
    "* `get_model_dfs_for_jupyter`"
   ]
  },
  {
   "cell_type": "markdown",
   "metadata": {},
   "source": [
    "### 1. `process_data(file_name, database_name, path, datatype, username)`\n",
    "This function takes a raw file(`file_name`) from the database(`database_name`), seperates cycles, cleans cycles, gets descriptors, calculates peaks and puts back to the database."
   ]
  },
  {
   "cell_type": "markdown",
   "metadata": {},
   "source": [
    "And it includes:"
   ]
  },
  {
   "cell_type": "markdown",
   "metadata": {},
   "source": [
    "#### A. `parse_update_master` which is #2 in this py file\n",
    "#### B. `generate_model_for_jupyter`  which is #8 in this py file\n",
    "#### C. `init_master_table` from `database.py`\n",
    "#### D. `load_sep_cycles` from `chachifuncs.py`\n",
    "#### E. `get_clean_cycles` from `chachifuncs.py`\n",
    "#### F. `get_clean_sets` from `chachifuncs.py`"
   ]
  },
  {
   "cell_type": "markdown",
   "metadata": {},
   "source": [
    "Let's operate this function once:"
   ]
  },
  {
   "cell_type": "markdown",
   "metadata": {},
   "source": [
    "### 2. `parse_update_master(file_name, database_name, datatype, path, username)`\n",
    "This function takes the information from the file(`file_name`), updates the master table in the database(`database_name`) and also adds the raw dataframe in the database."
   ]
  },
  {
   "cell_type": "markdown",
   "metadata": {},
   "source": [
    "And it includes:"
   ]
  },
  {
   "cell_type": "markdown",
   "metadata": {},
   "source": [
    "#### A. `calc_dq_dqdv` from `chachifuncs.py`\n",
    "#### B. `update_database_newtable` from `databasefuncs.py`\n",
    "#### C. `update_master_table` from `databasefuncs.py`"
   ]
  },
  {
   "cell_type": "markdown",
   "metadata": {},
   "source": [
    "### 3. `macc_chardis(row)`\n",
    "This function differentiate whether the `\"Md\"` in a specified row is `\"D\"` or not, if it is, return `\"-1\"`, if not, return `\"1\"`."
   ]
  },
  {
   "cell_type": "markdown",
   "metadata": {},
   "source": [
    "### 4. `if_file_exists_in_db(database_name, file_name)`\n",
    "This function checks whether a desired file(`file_name`) exists within a specified database(`database_name`)."
   ]
  },
  {
   "cell_type": "markdown",
   "metadata": {},
   "source": [
    "### 5. `get_db_filenames(database_name)`\n",
    "This functions can get all the files' name from a specified database(`database_name`)."
   ]
  },
  {
   "cell_type": "markdown",
   "metadata": {},
   "source": [
    "### 6. `my_pseudovoigt(x, cent, amp, fract, sigma)`\n",
    "This function is from http://cars9.uchicago.edu/software/python/lmfit/builtin_models.html, which fits the data with Pseudo-Voight Distribution."
   ]
  },
  {
   "cell_type": "markdown",
   "metadata": {},
   "source": [
    "### 7. `param_dicts_to_df(mod_params_name, database)`"
   ]
  },
  {
   "cell_type": "markdown",
   "metadata": {},
   "source": [
    "And it includes:"
   ]
  },
  {
   "cell_type": "markdown",
   "metadata": {},
   "source": [
    "#### A. `my_pseudovoigt` #6 in this py file\n",
    "#### B. `get_file_from_database` from `databasefuncs.py`\n",
    "#### C. `update_database_newtable` from  `databasefuncs.py`\n",
    "#### D. `dfsortpeakvals` from `descriptors.py`"
   ]
  },
  {
   "cell_type": "markdown",
   "metadata": {},
   "source": [
    "It will also be used in:"
   ]
  },
  {
   "cell_type": "markdown",
   "metadata": {},
   "source": [
    "#### A. `generate_model_for_jupyter` which is #8 in this py file"
   ]
  },
  {
   "cell_type": "markdown",
   "metadata": {},
   "source": [
    "### 8. `generate_model_for_jupyter(df_clean, filename, peak_thresh, database)`\n",
    "This function is analagous to the `generate_model` in the `app.py`, it can help us get the descritors, create model based off of initial peaks and show the model."
   ]
  },
  {
   "cell_type": "markdown",
   "metadata": {},
   "source": [
    "And it includes:"
   ]
  },
  {
   "cell_type": "markdown",
   "metadata": {},
   "source": [
    "#### A. `param_dicts_to_df` which is #7 in this py file\n",
    "#### B. `col_variables` from `chachifunc.py`\n",
    "#### C. `update_database_newtable` from  `databasefuncs.py`"
   ]
  },
  {
   "cell_type": "markdown",
   "metadata": {},
   "source": [
    "### 9. `get_model_dfs_for_jupyter(df_clean, datatype, cyc, lenmax, peak_thresh)`\n",
    "This function is analagous to the `get_model_dfs` in the `app.py`, it can help us get the descritors, "
   ]
  },
  {
   "cell_type": "markdown",
   "metadata": {},
   "source": [
    "And it includes:"
   ]
  },
  {
   "cell_type": "markdown",
   "metadata": {},
   "source": [
    "#### A. `param_dicts_to_df` which is #7 in this py file\n",
    "#### B. `col_variables` from `chachifunc.py`\n",
    "#### C. `update_database_newtable` from  `databasefuncs.py`\n",
    "#### D. `peak_finder` from `descriptors.py`\n",
    "#### E. `model_gen` from `descriptors.py`\n",
    "#### F. `model_eval` from `descriptors.py`"
   ]
  }
 ],
 "metadata": {
  "kernelspec": {
   "display_name": "Python 3",
   "language": "python",
   "name": "python3"
  },
  "language_info": {
   "codemirror_mode": {
    "name": "ipython",
    "version": 3
   },
   "file_extension": ".py",
   "mimetype": "text/x-python",
   "name": "python",
   "nbconvert_exporter": "python",
   "pygments_lexer": "ipython3",
   "version": "3.7.1"
  }
 },
 "nbformat": 4,
 "nbformat_minor": 2
}
