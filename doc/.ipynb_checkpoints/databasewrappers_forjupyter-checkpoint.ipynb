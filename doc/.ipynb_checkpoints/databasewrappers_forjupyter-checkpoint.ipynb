{
 "cells": [
  {
   "cell_type": "markdown",
   "metadata": {},
   "source": [
    "# databasewrapers_forjupyter"
   ]
  },
  {
   "cell_type": "markdown",
   "metadata": {},
   "source": [
    "### This notebook illustrates and demostrates the usage of the function in `databasewrappers_forjupyter.py`."
   ]
  },
  {
   "cell_type": "markdown",
   "metadata": {},
   "source": [
    "There are 9 functions in this py.file, includes "
   ]
  },
  {
   "cell_type": "markdown",
   "metadata": {},
   "source": [
    "* `process_data`\n",
    "* `parse_update_master`\n",
    "* `macc_chardis` \n",
    "* `if_file_exists_in_db`\n",
    "* `get_db_filenames`\n",
    "* `my_pseudovoigt` \n",
    "* `param_dicts_to_df`\n",
    "* `generate_model_for_jupyter`\n",
    "* `get_model_dfs_for_jupyter`"
   ]
  },
  {
   "cell_type": "code",
   "execution_count": 2,
   "metadata": {},
   "outputs": [],
   "source": [
    "# Import required packages\n",
    "import ast\n",
    "import io\n",
    "import numpy as np\n",
    "import os\n",
    "import pandas as pd \n",
    "from pandas import ExcelWriter\n",
    "import pandas.io.sql as pd_sql\n",
    "import scipy\n",
    "import sqlite3 as sql\n",
    "import sys\n",
    "sys.path.append(\"../data-science-appraoch-for-tdp\")\n",
    "import chachifuncs as ccf\n",
    "import descriptors\n",
    "import databasefuncs as dbfs"
   ]
  },
  {
   "cell_type": "markdown",
   "metadata": {},
   "source": [
    "### 1. `process_data(file_name, database_name, path, datatype, username)`\n",
    "This function takes a raw file(`file_name`) from the database(`database_name`), seperates cycles, cleans cycles, gets descriptors, calculates peaks and puts back to the database."
   ]
  },
  {
   "cell_type": "markdown",
   "metadata": {},
   "source": [
    "#### A. `parse_update_master`\n",
    "#### B. `generate_model_for_jupyter`\n",
    "#### C. `init_master_table` from `database.py`\n",
    "#### D. `load_sep_cycles` from `chachifuncs.py`\n",
    "#### E. `get_clean_cycles` from `chachifuncs.py`\n",
    "#### F. `get_clean_sets` from `chachifuncs.py`"
   ]
  },
  {
   "cell_type": "markdown",
   "metadata": {},
   "source": [
    "Let's operate this function once:"
   ]
  },
  {
   "cell_type": "markdown",
   "metadata": {},
   "source": [
    "### 2. `parse_update_master(file_name, database_name, datatype, path, username)`\n",
    "This function takes the information from the file(`file_name`), updates the master table in the database(`database_name`) and also adds the raw dataframe in the database."
   ]
  },
  {
   "cell_type": "markdown",
   "metadata": {},
   "source": [
    "And it includes:"
   ]
  },
  {
   "cell_type": "markdown",
   "metadata": {},
   "source": [
    "#### A. `calc_dq_dqdv` from `chachifuncs.py`\n",
    "#### B. `update_database_newtable` from `databasefuncs.py`\n",
    "#### C. `update_master_table` from `databasefuncs.py`"
   ]
  },
  {
   "cell_type": "markdown",
   "metadata": {},
   "source": [
    "### 3. `macc_chardis(row)`\n",
    "This function differentiate whether the `\"Md\"` in a specified row is `\"D\"` or not, if it is, return `\"-1\"`, if not, return `\"1\"`."
   ]
  },
  {
   "cell_type": "markdown",
   "metadata": {},
   "source": [
    "### 4. `if_file_exists_in_db(database_name, file_name)`\n",
    "This function checks whether a desired file(`file_name`) exists within a specified database(`database_name`)."
   ]
  },
  {
   "cell_type": "markdown",
   "metadata": {},
   "source": [
    "### 5. `get_db_filenames(database_name)`\n",
    "This functions can get all the files' name from a specified database(`database_name`)."
   ]
  },
  {
   "cell_type": "markdown",
   "metadata": {},
   "source": [
    "### 6. `my_pseudovoigt(x, cent, amp, fract, sigma)`\n",
    "This function is from http://cars9.uchicago.edu/software/python/lmfit/builtin_models.html, which fits the data with Pseudo-Voight Distribution."
   ]
  },
  {
   "cell_type": "markdown",
   "metadata": {},
   "source": [
    "### 7. `param_dicts_to_df(mod_params_name, database)`"
   ]
  },
  {
   "cell_type": "markdown",
   "metadata": {},
   "source": [
    "And it includes:"
   ]
  },
  {
   "cell_type": "code",
   "execution_count": null,
   "metadata": {},
   "outputs": [],
   "source": []
  }
 ],
 "metadata": {
  "kernelspec": {
   "display_name": "Python 3",
   "language": "python",
   "name": "python3"
  },
  "language_info": {
   "codemirror_mode": {
    "name": "ipython",
    "version": 3
   },
   "file_extension": ".py",
   "mimetype": "text/x-python",
   "name": "python",
   "nbconvert_exporter": "python",
   "pygments_lexer": "ipython3",
   "version": "3.7.1"
  }
 },
 "nbformat": 4,
 "nbformat_minor": 2
}
