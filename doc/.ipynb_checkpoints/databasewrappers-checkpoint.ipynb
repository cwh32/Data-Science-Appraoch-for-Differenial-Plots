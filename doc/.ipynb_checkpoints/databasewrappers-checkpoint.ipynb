{
 "cells": [
  {
   "cell_type": "markdown",
   "metadata": {},
   "source": [
    "# databasewrapers"
   ]
  },
  {
   "cell_type": "markdown",
   "metadata": {},
   "source": [
    "### This notebook illustrates and demostrates the usage of the function in `databasewrappers.py`."
   ]
  },
  {
   "cell_type": "markdown",
   "metadata": {},
   "source": [
    "There are 7 functions in this py.file, includes "
   ]
  },
  {
   "cell_type": "markdown",
   "metadata": {},
   "source": [
    "* `process_data`\n",
    "* `parse_update_master`\n",
    "* `macc_chardis` \n",
    "* `if_file_exists_in_db`\n",
    "* `get_db_filenames`\n",
    "* `my_pseudovoigt` \n",
    "* `param_dicts_to_df`"
   ]
  },
  {
   "cell_type": "markdown",
   "metadata": {},
   "source": [
    "Basically,"
   ]
  },
  {
   "cell_type": "code",
   "execution_count": 2,
   "metadata": {},
   "outputs": [],
   "source": [
    "# Import required packages\n",
    "import ast \n",
    "import io\n",
    "import os\n",
    "import pandas as pd \n",
    "from pandas import ExcelWriter\n",
    "import pandas.io.sql as pd_sql\n",
    "import sqlite3 as sql\n",
    "import sys\n",
    "sys.path.append(\"../data-science-appraoch-for-tdp\")\n",
    "import chachifuncs as ccf\n",
    "import descriptors\n",
    "import databasefuncs as dbfs\n",
    "import scipy\n",
    "import numpy as np"
   ]
  },
  {
   "cell_type": "code",
   "execution_count": null,
   "metadata": {},
   "outputs": [],
   "source": []
  }
 ],
 "metadata": {
  "kernelspec": {
   "display_name": "Python 3",
   "language": "python",
   "name": "python3"
  },
  "language_info": {
   "codemirror_mode": {
    "name": "ipython",
    "version": 3
   },
   "file_extension": ".py",
   "mimetype": "text/x-python",
   "name": "python",
   "nbconvert_exporter": "python",
   "pygments_lexer": "ipython3",
   "version": "3.7.1"
  }
 },
 "nbformat": 4,
 "nbformat_minor": 2
}
