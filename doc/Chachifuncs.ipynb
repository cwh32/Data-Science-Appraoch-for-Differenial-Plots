{
 "cells": [
  {
   "cell_type": "markdown",
   "metadata": {},
   "source": [
    "# Chachifuncs"
   ]
  },
  {
   "cell_type": "markdown",
   "metadata": {},
   "source": [
    "### This notebook illustrates and demostrates the usage of the function in `Chachifuncs.py`."
   ]
  },
  {
   "cell_type": "code",
   "execution_count": 4,
   "metadata": {},
   "outputs": [],
   "source": [
    "# Import required packages\n",
    "import glob\n",
    "from math import isclose\n",
    "import numpy as np\n",
    "import os\n",
    "import pandas as pd\n",
    "import requests\n",
    "import scipy.io\n",
    "import scipy.signal\n",
    "import sys\n",
    "sys.path.append(\"../data-science-appraoch-for-tdp\")\n",
    "import databasefuncs as dbfs\n",
    "import chachifuncs"
   ]
  },
  {
   "cell_type": "code",
   "execution_count": 2,
   "metadata": {},
   "outputs": [
    {
     "name": "stdout",
     "output_type": "stream",
     "text": [
      "CS2_33_10_04_10.xlsx\n"
     ]
    }
   ],
   "source": [
    "# Import data\n",
    "database = 'MyExampleDatabase.db'\n",
    "path = 'CS2_33_10_04_10.xlsx'\n",
    "datatype = 'CALCE'\n",
    "username = 'Mary Poppins'\n",
    "\n",
    "# The below is to get the variable filename\n",
    "filename = path\n",
    "while '/' in filename:\n",
    "    filename = filename.split('/', maxsplit = 1)[1]\n",
    "print(filename)"
   ]
  },
  {
   "cell_type": "markdown",
   "metadata": {},
   "source": [
    "### `col_variables`\n",
    "First, because there are two types of data in our database - 'CALCE' and 'MACCOR', we need to define the names of each columns according different types."
   ]
  },
  {
   "cell_type": "markdown",
   "metadata": {},
   "source": [
    "And the type of the data we are using is 'CALCE', so the names of columns will be as follows,"
   ]
  },
  {
   "cell_type": "code",
   "execution_count": 7,
   "metadata": {},
   "outputs": [
    {
     "data": {
      "text/plain": [
       "('Cycle_Index',\n",
       " 'Data_Point',\n",
       " 'Voltage(V)',\n",
       " 'Current(A)',\n",
       " 'Discharge_Capacity(Ah)',\n",
       " 'Charge_Capacity(Ah)',\n",
       " 'Step_Index')"
      ]
     },
     "execution_count": 7,
     "metadata": {},
     "output_type": "execute_result"
    }
   ],
   "source": [
    "chachifuncs.col_variables(datatype)"
   ]
  },
  {
   "cell_type": "markdown",
   "metadata": {},
   "source": [
    "### `load_sep_cycles`\n",
    "This function is getting data from a specified file, separating out data into cycles and saves those cycles as `.xlsx` files in specified filepath (must be an existing folder)"
   ]
  },
  {
   "cell_type": "markdown",
   "metadata": {},
   "source": [
    "### `init_columns`\n",
    "This function calculates the dv and the dq/dv for a dataframe."
   ]
  },
  {
   "cell_type": "markdown",
   "metadata": {},
   "source": [
    "### `calc_dq_dqdv`\n",
    "This function calculates"
   ]
  },
  {
   "cell_type": "code",
   "execution_count": null,
   "metadata": {},
   "outputs": [],
   "source": []
  }
 ],
 "metadata": {
  "kernelspec": {
   "display_name": "Python 3",
   "language": "python",
   "name": "python3"
  },
  "language_info": {
   "codemirror_mode": {
    "name": "ipython",
    "version": 3
   },
   "file_extension": ".py",
   "mimetype": "text/x-python",
   "name": "python",
   "nbconvert_exporter": "python",
   "pygments_lexer": "ipython3",
   "version": "3.7.1"
  }
 },
 "nbformat": 4,
 "nbformat_minor": 2
}
